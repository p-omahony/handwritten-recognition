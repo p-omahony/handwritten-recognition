{
  "nbformat": 4,
  "nbformat_minor": 0,
  "metadata": {
    "colab": {
      "name": "data-augmentation.ipynb",
      "provenance": []
    },
    "kernelspec": {
      "name": "python3",
      "display_name": "Python 3"
    }
  },
  "cells": [
    {
      "cell_type": "code",
      "metadata": {
        "colab": {
          "base_uri": "https://localhost:8080/"
        },
        "id": "K_QwQt89FgcQ",
        "outputId": "26692ded-cfd0-45af-ad99-3441b366f8dd"
      },
      "source": [
        "from google.colab import drive\n",
        "drive.mount('/content/drive')"
      ],
      "execution_count": 1,
      "outputs": [
        {
          "output_type": "stream",
          "text": [
            "Mounted at /content/drive\n"
          ],
          "name": "stdout"
        }
      ]
    },
    {
      "cell_type": "code",
      "metadata": {
        "colab": {
          "base_uri": "https://localhost:8080/"
        },
        "id": "-Ek7t_AtFm6j",
        "outputId": "0911155c-7341-452a-ec5e-c3c4239001f6"
      },
      "source": [
        "!mkdir data\n",
        "!mkdir data/train && mkdir data/test\n",
        "!cd data/test && wget \"https://github.com/p-omahony/handwritten-recognition/raw/main/data/test/emnist-letters-test.csv\"\n",
        "!cd data/train && wget \"https://github.com/p-omahony/handwritten-recognition/raw/main/data/train/emnist-letters-train.csv\""
      ],
      "execution_count": 2,
      "outputs": [
        {
          "output_type": "stream",
          "text": [
            "--2020-12-13 17:16:05--  https://github.com/p-omahony/handwritten-recognition/raw/main/data/test/emnist-letters-test.csv\n",
            "Resolving github.com (github.com)... 140.82.121.4\n",
            "Connecting to github.com (github.com)|140.82.121.4|:443... connected.\n",
            "HTTP request sent, awaiting response... 302 Found\n",
            "Location: https://media.githubusercontent.com/media/p-omahony/handwritten-recognition/main/data/test/emnist-letters-test.csv [following]\n",
            "--2020-12-13 17:16:05--  https://media.githubusercontent.com/media/p-omahony/handwritten-recognition/main/data/test/emnist-letters-test.csv\n",
            "Resolving media.githubusercontent.com (media.githubusercontent.com)... 151.101.0.133, 151.101.64.133, 151.101.128.133, ...\n",
            "Connecting to media.githubusercontent.com (media.githubusercontent.com)|151.101.0.133|:443... connected.\n",
            "HTTP request sent, awaiting response... 200 OK\n",
            "Length: 28625756 (27M) [text/plain]\n",
            "Saving to: ‘emnist-letters-test.csv’\n",
            "\n",
            "emnist-letters-test 100%[===================>]  27.30M   104MB/s    in 0.3s    \n",
            "\n",
            "2020-12-13 17:16:07 (104 MB/s) - ‘emnist-letters-test.csv’ saved [28625756/28625756]\n",
            "\n",
            "--2020-12-13 17:16:07--  https://github.com/p-omahony/handwritten-recognition/raw/main/data/train/emnist-letters-train.csv\n",
            "Resolving github.com (github.com)... 140.82.121.3\n",
            "Connecting to github.com (github.com)|140.82.121.3|:443... connected.\n",
            "HTTP request sent, awaiting response... 302 Found\n",
            "Location: https://media.githubusercontent.com/media/p-omahony/handwritten-recognition/main/data/train/emnist-letters-train.csv [following]\n",
            "--2020-12-13 17:16:07--  https://media.githubusercontent.com/media/p-omahony/handwritten-recognition/main/data/train/emnist-letters-train.csv\n",
            "Resolving media.githubusercontent.com (media.githubusercontent.com)... 151.101.0.133, 151.101.64.133, 151.101.128.133, ...\n",
            "Connecting to media.githubusercontent.com (media.githubusercontent.com)|151.101.0.133|:443... connected.\n",
            "HTTP request sent, awaiting response... 200 OK\n",
            "Length: 171610185 (164M) [text/plain]\n",
            "Saving to: ‘emnist-letters-train.csv’\n",
            "\n",
            "emnist-letters-trai 100%[===================>] 163.66M   209MB/s    in 0.8s    \n",
            "\n",
            "2020-12-13 17:16:14 (209 MB/s) - ‘emnist-letters-train.csv’ saved [171610185/171610185]\n",
            "\n"
          ],
          "name": "stdout"
        }
      ]
    },
    {
      "cell_type": "code",
      "metadata": {
        "id": "llIe06w_FpY3"
      },
      "source": [
        "import numpy as np\n",
        "import pandas as pd\n",
        "import matplotlib.pyplot as plt \n",
        "import tensorflow as tf\n",
        "from sklearn.model_selection import train_test_split\n",
        "import cv2"
      ],
      "execution_count": 3,
      "outputs": []
    },
    {
      "cell_type": "code",
      "metadata": {
        "id": "db7DLb4NFuJJ"
      },
      "source": [
        "training_letter = pd.read_csv(\"/content/data/train/emnist-letters-train.csv\")"
      ],
      "execution_count": 4,
      "outputs": []
    },
    {
      "cell_type": "code",
      "metadata": {
        "id": "ezcMuyB_F4Hk"
      },
      "source": [
        "y1 = np.array(training_letter.iloc[:,0].values)\n",
        "x1 = np.array(training_letter.iloc[:,1:].values)"
      ],
      "execution_count": 5,
      "outputs": []
    },
    {
      "cell_type": "code",
      "metadata": {
        "id": "24_FkvHTF82C"
      },
      "source": [
        "train_images = x1 / 255.0\n",
        "\n",
        "train_images_number = train_images.shape[0]\n",
        "train_images_height = 28\n",
        "train_images_width = 28\n",
        "train_images_size = train_images_height*train_images_width\n",
        "\n",
        "train_images = train_images.reshape(train_images_number, train_images_height, train_images_width, 1)"
      ],
      "execution_count": 6,
      "outputs": []
    },
    {
      "cell_type": "code",
      "metadata": {
        "id": "J4ZiSaaIGJwg"
      },
      "source": [
        "number_of_classes = 37\n",
        "y1 = tf.keras.utils.to_categorical(y1, number_of_classes)"
      ],
      "execution_count": 7,
      "outputs": []
    },
    {
      "cell_type": "code",
      "metadata": {
        "id": "j1eqtNxCGUnE"
      },
      "source": [
        "m1 = x1[2].reshape([28,28])\n",
        "m2 = x1[3].reshape([28,28])"
      ],
      "execution_count": 8,
      "outputs": []
    },
    {
      "cell_type": "code",
      "metadata": {
        "id": "z7Oygtk_GXb-"
      },
      "source": [
        "m = np.concatenate((m1,m2), axis=1)"
      ],
      "execution_count": 9,
      "outputs": []
    },
    {
      "cell_type": "code",
      "metadata": {
        "colab": {
          "base_uri": "https://localhost:8080/",
          "height": 233
        },
        "id": "M3umpjopGZzT",
        "outputId": "38553c00-c99f-4f3c-bad8-08bf788a7374"
      },
      "source": [
        "plt.imshow(m)"
      ],
      "execution_count": 10,
      "outputs": [
        {
          "output_type": "execute_result",
          "data": {
            "text/plain": [
              "<matplotlib.image.AxesImage at 0x7f46e025cd30>"
            ]
          },
          "metadata": {
            "tags": []
          },
          "execution_count": 10
        },
        {
          "output_type": "display_data",
          "data": {
            "image/png": "[encoded data removed]",
            "text/plain": [
              "<Figure size 432x288 with 1 Axes>"
            ]
          },
          "metadata": {
            "tags": [],
            "needs_background": "light"
          }
        }
      ]
    },
    {
      "cell_type": "code",
      "metadata": {
        "id": "jnl8y-tMGlMN"
      },
      "source": [
        " "
      ],
      "execution_count": null,
      "outputs": []
    }
  ]
}