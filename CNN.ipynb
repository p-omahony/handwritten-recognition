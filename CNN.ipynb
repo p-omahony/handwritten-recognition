{
  "nbformat": 4,
  "nbformat_minor": 0,
  "metadata": {
    "colab": {
      "name": "CNN.ipynb",
      "provenance": [],
      "collapsed_sections": []
    },
    "kernelspec": {
      "name": "python3",
      "display_name": "Python 3"
    },
    "accelerator": "GPU"
  },
  "cells": [
    {
      "cell_type": "code",
      "metadata": {
        "colab": {
          "base_uri": "https://localhost:8080/"
        },
        "id": "hjKPJL8mcA6T",
        "outputId": "5cfa0555-6ab8-4a99-fbcf-90ec994f60a8"
      },
      "source": [
        "from google.colab import drive\n",
        "drive.mount('/content/drive')"
      ],
      "execution_count": null,
      "outputs": [
        {
          "output_type": "stream",
          "text": [
            "Drive already mounted at /content/drive; to attempt to forcibly remount, call drive.mount(\"/content/drive\", force_remount=True).\n"
          ],
          "name": "stdout"
        }
      ]
    },
    {
      "cell_type": "code",
      "metadata": {
        "colab": {
          "base_uri": "https://localhost:8080/"
        },
        "id": "nLDGvy8lIrEm",
        "outputId": "f4adf830-acd5-4a01-872b-d354fefbaf86"
      },
      "source": [
        "!mkdir data\n",
        "!mkdir data/train && mkdir data/test\n",
        "!cd data/test && wget \"https://github.com/p-omahony/handwritten-recognition/raw/main/data/test/emnist-letters-test.csv\"\n",
        "!cd data/train && wget \"https://github.com/p-omahony/handwritten-recognition/raw/main/data/train/emnist-letters-train.csv\""
      ],
      "execution_count": null,
      "outputs": [
        {
          "output_type": "stream",
          "text": [
            "--2020-12-11 18:54:45--  https://github.com/p-omahony/handwritten-recognition/raw/main/data/test/emnist-letters-test.csv\n",
            "Resolving github.com (github.com)... 140.82.113.3\n",
            "Connecting to github.com (github.com)|140.82.113.3|:443... connected.\n",
            "HTTP request sent, awaiting response... 302 Found\n",
            "Location: https://media.githubusercontent.com/media/p-omahony/handwritten-recognition/main/data/test/emnist-letters-test.csv [following]\n",
            "--2020-12-11 18:54:46--  https://media.githubusercontent.com/media/p-omahony/handwritten-recognition/main/data/test/emnist-letters-test.csv\n",
            "Resolving media.githubusercontent.com (media.githubusercontent.com)... 151.101.0.133, 151.101.64.133, 151.101.128.133, ...\n",
            "Connecting to media.githubusercontent.com (media.githubusercontent.com)|151.101.0.133|:443... connected.\n",
            "HTTP request sent, awaiting response... 200 OK\n",
            "Length: 28625756 (27M) [text/plain]\n",
            "Saving to: ‘emnist-letters-test.csv’\n",
            "\n",
            "emnist-letters-test 100%[===================>]  27.30M  --.-KB/s    in 0.1s    \n",
            "\n",
            "2020-12-11 18:54:46 (246 MB/s) - ‘emnist-letters-test.csv’ saved [28625756/28625756]\n",
            "\n",
            "--2020-12-11 18:54:46--  https://github.com/p-omahony/handwritten-recognition/raw/main/data/train/emnist-letters-train.csv\n",
            "Resolving github.com (github.com)... 140.82.113.3\n",
            "Connecting to github.com (github.com)|140.82.113.3|:443... connected.\n",
            "HTTP request sent, awaiting response... 302 Found\n",
            "Location: https://media.githubusercontent.com/media/p-omahony/handwritten-recognition/main/data/train/emnist-letters-train.csv [following]\n",
            "--2020-12-11 18:54:46--  https://media.githubusercontent.com/media/p-omahony/handwritten-recognition/main/data/train/emnist-letters-train.csv\n",
            "Resolving media.githubusercontent.com (media.githubusercontent.com)... 151.101.0.133, 151.101.64.133, 151.101.128.133, ...\n",
            "Connecting to media.githubusercontent.com (media.githubusercontent.com)|151.101.0.133|:443... connected.\n",
            "HTTP request sent, awaiting response... 200 OK\n",
            "Length: 171610185 (164M) [text/plain]\n",
            "Saving to: ‘emnist-letters-train.csv’\n",
            "\n",
            "emnist-letters-trai 100%[===================>] 163.66M   306MB/s    in 0.5s    \n",
            "\n",
            "2020-12-11 18:54:52 (306 MB/s) - ‘emnist-letters-train.csv’ saved [171610185/171610185]\n",
            "\n"
          ],
          "name": "stdout"
        }
      ]
    },
    {
      "cell_type": "code",
      "metadata": {
        "colab": {
          "base_uri": "https://localhost:8080/"
        },
        "id": "X-YZZtR3JlIe",
        "outputId": "a0fa0fd8-1f25-4c1a-9c39-395693e58039"
      },
      "source": [
        "!ls"
      ],
      "execution_count": null,
      "outputs": [
        {
          "output_type": "stream",
          "text": [
            "data  drive  sample_data\n"
          ],
          "name": "stdout"
        }
      ]
    },
    {
      "cell_type": "code",
      "metadata": {
        "id": "h4rCH-2Ua3Ka"
      },
      "source": [
        "import numpy as np\n",
        "import pandas as pd\n",
        "import matplotlib.pyplot as plt \n",
        "import tensorflow as tf\n",
        "from sklearn.model_selection import train_test_split\n",
        "import cv2"
      ],
      "execution_count": null,
      "outputs": []
    },
    {
      "cell_type": "code",
      "metadata": {
        "id": "pMtxp8g4cKBb"
      },
      "source": [
        "testing_letter = pd.read_csv(\"/content/data/test/emnist-letters-test.csv\")\n",
        "training_letter = pd.read_csv(\"/content/data/train/emnist-letters-train.csv\")"
      ],
      "execution_count": null,
      "outputs": []
    },
    {
      "cell_type": "code",
      "metadata": {
        "id": "7m4MuzCdcjLE"
      },
      "source": [
        "#training_letters\n",
        "y1 = np.array(training_letter.iloc[:,0].values)\n",
        "x1 = np.array(training_letter.iloc[:,1:].values)\n",
        "#testing_labels\n",
        "y2 = np.array(testing_letter.iloc[:,0].values)\n",
        "x2 = np.array(testing_letter.iloc[:,1:].values)"
      ],
      "execution_count": null,
      "outputs": []
    },
    {
      "cell_type": "code",
      "metadata": {
        "colab": {
          "base_uri": "https://localhost:8080/",
          "height": 453
        },
        "id": "H9eh0jDxcymo",
        "outputId": "94820e61-3d17-4e2e-98a3-d2bd8cd814c3"
      },
      "source": [
        "fig,axes = plt.subplots(3,5,figsize=(10,8))\n",
        "for i,ax in enumerate(axes.flat):\n",
        "    ax.imshow(x1[i].reshape([28,28]))"
      ],
      "execution_count": null,
      "outputs": [
        {
          "output_type": "display_data",
          "data": {
            "image/png": "[encoded data removed]",
            "text/plain": [
              "<Figure size 720x576 with 15 Axes>"
            ]
          },
          "metadata": {
            "tags": [],
            "needs_background": "light"
          }
        }
      ]
    },
    {
      "cell_type": "code",
      "metadata": {
        "id": "BdGg-67Zc3Jt"
      },
      "source": [
        "train_images = x1 / 255.0\n",
        "test_images = x2 / 255.0\n",
        "\n",
        "train_images_number = train_images.shape[0]\n",
        "train_images_height = 28\n",
        "train_images_width = 28\n",
        "train_images_size = train_images_height*train_images_width\n",
        "\n",
        "train_images = train_images.reshape(train_images_number, train_images_height, train_images_width, 1)\n",
        "\n",
        "test_images_number = test_images.shape[0]\n",
        "test_images_height = 28\n",
        "test_images_width = 28\n",
        "test_images_size = test_images_height*test_images_width\n",
        "\n",
        "test_images = test_images.reshape(test_images_number, test_images_height, test_images_width, 1)"
      ],
      "execution_count": null,
      "outputs": []
    },
    {
      "cell_type": "code",
      "metadata": {
        "id": "yFgxmcdMdHUb"
      },
      "source": [
        "number_of_classes = 37\n",
        "\n",
        "y1 = tf.keras.utils.to_categorical(y1, number_of_classes)\n",
        "y2 = tf.keras.utils.to_categorical(y2, number_of_classes)"
      ],
      "execution_count": null,
      "outputs": []
    },
    {
      "cell_type": "code",
      "metadata": {
        "id": "72bQdNeMdKLd"
      },
      "source": [
        "train_x,test_x,train_y,test_y = train_test_split(train_images,y1,test_size=0.2,random_state = 42)"
      ],
      "execution_count": null,
      "outputs": []
    },
    {
      "cell_type": "code",
      "metadata": {
        "id": "q4gcW4pjdS1L"
      },
      "source": [
        "model = tf.keras.Sequential([ \n",
        "    tf.keras.layers.Conv2D(32,3,input_shape=(28,28,1)),\n",
        "    tf.keras.layers.MaxPooling2D(2,2),\n",
        "    tf.keras.layers.Flatten(input_shape=(28,28,1)),\n",
        "    tf.keras.layers.Dense(512,activation='relu'),\n",
        "    tf.keras.layers.Dense(128,activation='relu'),\n",
        "    tf.keras.layers.Dense(number_of_classes,activation='softmax')\n",
        "])"
      ],
      "execution_count": null,
      "outputs": []
    },
    {
      "cell_type": "code",
      "metadata": {
        "id": "2hX7LeMydVNu"
      },
      "source": [
        "model.compile(optimizer='rmsprop',loss='categorical_crossentropy',metrics=['accuracy'])"
      ],
      "execution_count": null,
      "outputs": []
    },
    {
      "cell_type": "code",
      "metadata": {
        "id": "PCnT8Tl-dY3K"
      },
      "source": [
        "MCP = tf.keras.callbacks.ModelCheckpoint('Best_points.h5',verbose=1,save_best_only=True,monitor='val_accuracy',mode='max')\n",
        "ES = tf.keras.callbacks.EarlyStopping(monitor='val_accuracy',min_delta=0,verbose=0,restore_best_weights = True,patience=3,mode='max')\n",
        "RLP = tf.keras.callbacks.ReduceLROnPlateau(monitor='val_loss',patience=3,factor=0.2,min_lr=0.0001)"
      ],
      "execution_count": null,
      "outputs": []
    },
    {
      "cell_type": "code",
      "metadata": {
        "colab": {
          "base_uri": "https://localhost:8080/"
        },
        "id": "ygpuKm8gdhir",
        "outputId": "5f421ac3-ed69-43ff-f911-bf0892853870"
      },
      "source": [
        "history = model.fit(train_x,train_y,epochs=20,validation_data=(test_x,test_y),callbacks=[MCP,ES,RLP])"
      ],
      "execution_count": null,
      "outputs": [
        {
          "output_type": "stream",
          "text": [
            "Epoch 1/20\n",
            "2217/2220 [============================>.] - ETA: 0s - loss: 0.5537 - accuracy: 0.8281\n",
            "Epoch 00001: val_accuracy improved from -inf to 0.89144, saving model to Best_points.h5\n",
            "2220/2220 [==============================] - 9s 4ms/step - loss: 0.5535 - accuracy: 0.8282 - val_loss: 0.3340 - val_accuracy: 0.8914\n",
            "Epoch 2/20\n",
            "2216/2220 [============================>.] - ETA: 0s - loss: 0.2818 - accuracy: 0.9092\n",
            "Epoch 00002: val_accuracy improved from 0.89144 to 0.89527, saving model to Best_points.h5\n",
            "2220/2220 [==============================] - 9s 4ms/step - loss: 0.2817 - accuracy: 0.9092 - val_loss: 0.3413 - val_accuracy: 0.8953\n",
            "Epoch 3/20\n",
            "2208/2220 [============================>.] - ETA: 0s - loss: 0.2234 - accuracy: 0.9263\n",
            "Epoch 00003: val_accuracy improved from 0.89527 to 0.89938, saving model to Best_points.h5\n",
            "2220/2220 [==============================] - 9s 4ms/step - loss: 0.2233 - accuracy: 0.9263 - val_loss: 0.3253 - val_accuracy: 0.8994\n",
            "Epoch 4/20\n",
            "2214/2220 [============================>.] - ETA: 0s - loss: 0.1922 - accuracy: 0.9368\n",
            "Epoch 00004: val_accuracy did not improve from 0.89938\n",
            "2220/2220 [==============================] - 9s 4ms/step - loss: 0.1924 - accuracy: 0.9368 - val_loss: 0.3527 - val_accuracy: 0.8952\n",
            "Epoch 5/20\n",
            "2209/2220 [============================>.] - ETA: 0s - loss: 0.1778 - accuracy: 0.9403\n",
            "Epoch 00005: val_accuracy did not improve from 0.89938\n",
            "2220/2220 [==============================] - 9s 4ms/step - loss: 0.1775 - accuracy: 0.9403 - val_loss: 0.4362 - val_accuracy: 0.8828\n",
            "Epoch 6/20\n",
            "2211/2220 [============================>.] - ETA: 0s - loss: 0.1656 - accuracy: 0.9449\n",
            "Epoch 00006: val_accuracy improved from 0.89938 to 0.90310, saving model to Best_points.h5\n",
            "2220/2220 [==============================] - 9s 4ms/step - loss: 0.1656 - accuracy: 0.9449 - val_loss: 0.4347 - val_accuracy: 0.9031\n",
            "Epoch 7/20\n",
            "2211/2220 [============================>.] - ETA: 0s - loss: 0.0790 - accuracy: 0.9706\n",
            "Epoch 00007: val_accuracy improved from 0.90310 to 0.91678, saving model to Best_points.h5\n",
            "2220/2220 [==============================] - 9s 4ms/step - loss: 0.0789 - accuracy: 0.9707 - val_loss: 0.3847 - val_accuracy: 0.9168\n",
            "Epoch 8/20\n",
            "2216/2220 [============================>.] - ETA: 0s - loss: 0.0644 - accuracy: 0.9745\n",
            "Epoch 00008: val_accuracy did not improve from 0.91678\n",
            "2220/2220 [==============================] - 9s 4ms/step - loss: 0.0643 - accuracy: 0.9745 - val_loss: 0.4314 - val_accuracy: 0.9127\n",
            "Epoch 9/20\n",
            "2215/2220 [============================>.] - ETA: 0s - loss: 0.0599 - accuracy: 0.9768\n",
            "Epoch 00009: val_accuracy did not improve from 0.91678\n",
            "2220/2220 [==============================] - 9s 4ms/step - loss: 0.0599 - accuracy: 0.9768 - val_loss: 0.4413 - val_accuracy: 0.9145\n",
            "Epoch 10/20\n",
            "2213/2220 [============================>.] - ETA: 0s - loss: 0.0487 - accuracy: 0.9804\n",
            "Epoch 00010: val_accuracy improved from 0.91678 to 0.91700, saving model to Best_points.h5\n",
            "2220/2220 [==============================] - 9s 4ms/step - loss: 0.0487 - accuracy: 0.9803 - val_loss: 0.4330 - val_accuracy: 0.9170\n",
            "Epoch 11/20\n",
            "2216/2220 [============================>.] - ETA: 0s - loss: 0.0475 - accuracy: 0.9808\n",
            "Epoch 00011: val_accuracy did not improve from 0.91700\n",
            "2220/2220 [==============================] - 9s 4ms/step - loss: 0.0475 - accuracy: 0.9808 - val_loss: 0.4578 - val_accuracy: 0.9132\n",
            "Epoch 12/20\n",
            "2209/2220 [============================>.] - ETA: 0s - loss: 0.0459 - accuracy: 0.9817\n",
            "Epoch 00012: val_accuracy did not improve from 0.91700\n",
            "2220/2220 [==============================] - 9s 4ms/step - loss: 0.0459 - accuracy: 0.9817 - val_loss: 0.4834 - val_accuracy: 0.9132\n",
            "Epoch 13/20\n",
            "2219/2220 [============================>.] - ETA: 0s - loss: 0.0444 - accuracy: 0.9817\n",
            "Epoch 00013: val_accuracy did not improve from 0.91700\n",
            "2220/2220 [==============================] - 9s 4ms/step - loss: 0.0443 - accuracy: 0.9817 - val_loss: 0.4707 - val_accuracy: 0.9092\n"
          ],
          "name": "stdout"
        }
      ]
    },
    {
      "cell_type": "code",
      "metadata": {
        "colab": {
          "base_uri": "https://localhost:8080/"
        },
        "id": "Qr-xFZXFfQvO",
        "outputId": "dfd0b75e-4a6c-4a95-8b73-b7e474cadccc"
      },
      "source": [
        "prediction = model.predict(test_x)[2]\n",
        "prediction"
      ],
      "execution_count": null,
      "outputs": [
        {
          "output_type": "execute_result",
          "data": {
            "text/plain": [
              "array([1.26867474e-23, 5.17029043e-17, 2.69878493e-13, 6.43626327e-20,\n",
              "       1.14360520e-13, 1.74137152e-15, 2.27823011e-16, 1.31053057e-12,\n",
              "       4.74152488e-12, 2.41493066e-08, 3.27958519e-14, 9.64289648e-10,\n",
              "       2.19888641e-08, 7.88933901e-19, 4.26380493e-11, 4.37853893e-24,\n",
              "       6.63886372e-16, 1.98929978e-12, 4.27612541e-08, 7.23685561e-17,\n",
              "       2.12451543e-13, 2.76601143e-13, 2.78007997e-06, 3.18448406e-14,\n",
              "       9.99920726e-01, 7.63665157e-05, 2.49535982e-12, 2.34336938e-23,\n",
              "       2.61162579e-23, 3.70270451e-23, 4.13089971e-24, 1.74420996e-23,\n",
              "       4.70265032e-24, 5.45794117e-23, 2.68523109e-23, 1.27340696e-23,\n",
              "       3.44273809e-24], dtype=float32)"
            ]
          },
          "metadata": {
            "tags": []
          },
          "execution_count": 60
        }
      ]
    }
  ]
}